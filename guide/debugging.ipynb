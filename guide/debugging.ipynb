{
 "cells": [
  {
   "cell_type": "markdown",
   "metadata": {},
   "source": [
    "# [Debugging](https://www.tensorflow.org/programmers_guide/debugger)"
   ]
  },
  {
   "cell_type": "markdown",
   "metadata": {},
   "source": [
    "**TensorFlow debugger (tfdbg)** lets you view the internal structure and states of running TensorFlow graphs during training and inference.\n",
    "\n",
    "TensorFlow debugger uses a curses-based text user interface. On Mac OS X, install the ncurses library:\n",
    "- ```$brew install homebrew/dupes/ncurses```\n",
    "\n",
    "Use the tfdbg **command-line interface (CLI)** to debug a frequently-encountered type of bug, numerial issues, ```nan``` and ```inf```.\n",
    "\n",
    "The following example is for users who use the low-level Session API of TensorFlow to observe such an issue:  \n",
    "- ```$python -m tensorflow.python.debug.examples.debug_mnist```\n",
    "\n",
    "The accuracy increases slightly then gets stuck:\n",
    "```\n",
    "Accuracy at step 0: 0.1113\n",
    "Accuracy at step 1: 0.3183\n",
    "Accuracy at step 2: 0.098\n",
    "Accuracy at step 3: 0.098\n",
    "```"
   ]
  },
  {
   "cell_type": "markdown",
   "metadata": {},
   "source": [
    "## Wrapping tensorFlow sessions with tfdbg\n",
    "Wrapping the session object with a debugger wrapper to add support for tfbdg:\n",
    "```python\n",
    "# Let your BUILD target depend on \"//tensorflow/python/debug:debug_py\"\n",
    "# (You don't need to worry about the BUILD dependency if you are using a pip\n",
    "#  install of open-source TensorFlow.)\n",
    "from tensorflow.python import debug as tf_debug\n",
    "sess = tf_debug.LocalCLIDebugWrapperSession(sess)\n",
    "```\n",
    "\n",
    "The code above is already in [debug_mnist.py](https://github.com/tensorflow/tensorflow/blob/master/tensorflow/python/debug/examples/debug_mnist.py) for practice. The wrapper provides additional features, including:\n",
    "- Bringing up a CLI before and after Session.run() calls, to control the execution and inspect the graph's internal state.\n",
    "- Allowing you to register special filters for tensor values, to facilitate the diagnosis of issues.\n",
    "\n",
    "In addition, the code also have already registered a tensor filter called ```tfdbg.has_inf_or_nan``` determining if there are any ```nan``` or ```inf``` values in any intermediate tensors. [API doc](https://www.tensorflow.org/api_docs/python/tfdbg/DebugDumpDir#find) of ```DebuggDumpDir.find()``` provides additional information for writing own filters."
   ]
  },
  {
   "cell_type": "markdown",
   "metadata": {},
   "source": [
    "## Debugging model training with tfdbg\n",
    "Use debug_mnist as a running example.  \n",
    "Start debug wrapper session:\n",
    "- ```python -m tensorflow.python.debug.examples.debug_mnist --debug```  \n",
    "Prompt to be about to excute the first ```Session.run()```, with information regarding the fetched tensor and feed dictionaries.\n",
    "\n",
    "Run command:  \n",
    "- ```tfdbg> run```  \n",
    "  - The run command causes tfbdg to execute until the end of the next ```Session.run()```.\n",
    "  - After the run ends, tfbdg displays all the dumped tensors values in the run-end CLI.\n",
    "- ```tfgdb> run -t 10```\n",
    "  - use the -t flag to move ahead a number of ```Session.run()``` calls at a time\n",
    "  \n",
    "### tfdbg CLI frequently-used commands\n",
    "- ```lt``` - list dumped tensors\n",
    "- ```pt <tensor>``` - print value of a dumped tensor\n",
    "- ```pf <feed_tensor>``` - print a value in the feed_dict to session.run\n",
    "- ```eval``` - evaluate arbitrary python and numpy expression\n",
    "\n",
    "### Finding ```nan```'s and ```inf```'s\n",
    "let the debugger repeatedly execute ```Session.run()``` calls without stopping at the run-start or run-end prompt, until the first nan or inf value shows up in the graph.\n",
    "- ```tfbdg> run -f has_inf_or_nan```"
   ]
  },
  {
   "cell_type": "code",
   "execution_count": null,
   "metadata": {},
   "outputs": [],
   "source": []
  }
 ],
 "metadata": {
  "kernelspec": {
   "display_name": "Python 3",
   "language": "python",
   "name": "python3"
  },
  "language_info": {
   "codemirror_mode": {
    "name": "ipython",
    "version": 3
   },
   "file_extension": ".py",
   "mimetype": "text/x-python",
   "name": "python",
   "nbconvert_exporter": "python",
   "pygments_lexer": "ipython3",
   "version": "3.6.4"
  }
 },
 "nbformat": 4,
 "nbformat_minor": 2
}

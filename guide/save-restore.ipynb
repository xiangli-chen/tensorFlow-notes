{
 "cells": [
  {
   "cell_type": "markdown",
   "metadata": {},
   "source": [
    "# Save and Restore\n",
    "[save and restore](https://www.tensorflow.org/guide/saved_model)"
   ]
  },
  {
   "cell_type": "markdown",
   "metadata": {},
   "source": [
    "## Save and restore variables\n",
    "TensorFlow Variables are the best way to represent shared, persistent state manipulated by your program. \n",
    "- The ```tf.train.Saver``` constructor adds save and restore ops to the graph for all, or a specified list, of the variables in the graph. \n",
    "- The ```Saver``` object provides methods to run these ops, specifying paths for the checkpoint files to write to or read from. ```Saver``` restores all variables already defined in your model.\n",
    "\n",
    "TensorFlow saves variables in binary checkpoint files that map variable names to tensor values."
   ]
  },
  {
   "cell_type": "markdown",
   "metadata": {},
   "source": [
    "### Save variables\n",
    "Create a ```Saver``` with ```tf.train.Saver()``` to manage all variables in the model."
   ]
  },
  {
   "cell_type": "code",
   "execution_count": null,
   "metadata": {},
   "outputs": [],
   "source": [
    "import tensorflow as tf\n",
    "\n",
    "# Create some variables.\n",
    "v1 = tf.get_variable(\"v1\", shape=[3], initializer = tf.zeros_initializer)\n",
    "v2 = tf.get_variable(\"v2\", shape=[5], initializer = tf.zeros_initializer)\n",
    "\n",
    "inc_v1 = v1.assign(v1+1)\n",
    "dec_v2 = v2.assign(v2-1)\n",
    "\n",
    "# Add an op to initialize the variables.\n",
    "init_op = tf.global_variables_initializer()\n",
    "\n",
    "# Add ops to save and restore all the variables.\n",
    "saver = tf.train.Saver()"
   ]
  },
  {
   "cell_type": "code",
   "execution_count": null,
   "metadata": {},
   "outputs": [],
   "source": [
    "# Later, launch the model, initialize the variables, do some work, and save the\n",
    "# variables to disk.\n",
    "with tf.Session() as sess:\n",
    "  sess.run(init_op)\n",
    "  # Do some work with the model.\n",
    "  inc_v1.op.run()\n",
    "  dec_v2.op.run()\n",
    "  # Save the variables to disk.\n",
    "  save_path = saver.save(sess, \"./model/model.ckpt\")\n",
    "  print(\"Model saved in path: %s\" % save_path)"
   ]
  },
  {
   "cell_type": "markdown",
   "metadata": {},
   "source": [
    "### Restore variables\n",
    "The ```tf.train.Saver``` object not only saves variables to checkpoint files, it also restores variables. "
   ]
  },
  {
   "cell_type": "code",
   "execution_count": null,
   "metadata": {},
   "outputs": [],
   "source": [
    "tf.reset_default_graph()\n",
    "\n",
    "# Create some variables.\n",
    "v1 = tf.get_variable(\"v1\", shape=[3])\n",
    "v2 = tf.get_variable(\"v2\", shape=[5])\n",
    "\n",
    "# Add ops to save and restore all the variables.\n",
    "saver = tf.train.Saver()\n",
    "\n",
    "# Later, launch the model, use the saver to restore variables from disk, and\n",
    "# do some work with the model.\n",
    "with tf.Session() as sess:\n",
    "  # Restore variables from disk.\n",
    "  saver.restore(sess, \"./model/model.ckpt\")\n",
    "  print(\"Model restored.\")\n",
    "  # Check the values of the variables\n",
    "  print(\"v1 : %s\" % v1.eval())\n",
    "  print(\"v2 : %s\" % v2.eval())\n"
   ]
  },
  {
   "cell_type": "markdown",
   "metadata": {},
   "source": [
    "#### Choose variables to save and restore\n",
    "It is sometimes useful to explicitly specify names for variables in the checkpoint files. It is also sometimes useful to only save or restore a subset of the variables used by a model. \n",
    "\n",
    "You can specify the names and variables to save or load by passing to the ```tf.train.Saver()``` constructor either of the following:\n",
    "- A list of variables (which will be stored under their own names).\n",
    "- A Python dictionary in which keys are the names to use and the values are the variables to manage."
   ]
  },
  {
   "cell_type": "code",
   "execution_count": null,
   "metadata": {},
   "outputs": [],
   "source": [
    "tf.reset_default_graph()\n",
    "# Create some variables.\n",
    "v1 = tf.get_variable(\"v1\", [3], initializer = tf.zeros_initializer)\n",
    "v2 = tf.get_variable(\"v2\", [5], initializer = tf.zeros_initializer)\n",
    "\n",
    "# Add ops to save and restore only `v2` using the name \"v2\"\n",
    "saver = tf.train.Saver({\"v2\": v2})\n",
    "\n",
    "# Use the saver object normally after that.\n",
    "with tf.Session() as sess:\n",
    "  # Initialize v1 since the saver will not.\n",
    "  v1.initializer.run()\n",
    "  saver.restore(sess, \"./model/model.ckpt\")\n",
    "\n",
    "  print(\"v1 : %s\" % v1.eval())\n",
    "  print(\"v2 : %s\" % v2.eval())"
   ]
  },
  {
   "cell_type": "markdown",
   "metadata": {},
   "source": [
    "Notes:\n",
    "- Can crearte as many ```Saver``` objecdts as possible to save and restore different subsets of the model variables.\n",
    "- If only restore a subset of the model variables at the start of a session, have to run an initialize op for the other variables.\n",
    "- Can use the ```inspect_checkpoint``` library to inspect the variables in a checkpoint.\n",
    "- By default, Saver uses the value of the ```tf.Variable.name``` property for each variable. However, ```Saver``` can optionally choose names for the variables in the checkpoint files."
   ]
  },
  {
   "cell_type": "markdown",
   "metadata": {},
   "source": [
    "## Build and load a SavedModel\n",
    "### Simple save\n",
    "The easiest way to create a ```SavedModel``` is to use the ```tf.saved_model.simple_save``` function:\n",
    "```python\n",
    "simple_save(session,\n",
    "            export_dir,\n",
    "            inputs={\"x\": x, \"y\": y},\n",
    "            outputs={\"z\": z})\n",
    "```\n",
    "### Manually build a SavedModel"
   ]
  },
  {
   "cell_type": "markdown",
   "metadata": {},
   "source": [
    "### Loading a SavedModel in Python\n",
    "The ```load``` operation requires:\n",
    "- The session in which to restore the graph definition and variables.\n",
    "- The tags used to identify the MetaGraphDef to load.\n",
    "- The location (directory) of the SavedModel."
   ]
  },
  {
   "cell_type": "code",
   "execution_count": null,
   "metadata": {},
   "outputs": [],
   "source": [
    "import tensorflow as tf\n",
    "\n",
    "# Create some variables.\n",
    "v1 = tf.get_variable(\"v1\", shape=[3], initializer = tf.zeros_initializer)\n",
    "v2 = tf.get_variable(\"v2\", shape=[5], initializer = tf.zeros_initializer)\n",
    "\n",
    "inc_v1 = v1.assign(v1+1)\n",
    "dec_v2 = v2.assign(v2-1)\n",
    "\n",
    "# Add an op to initialize the variables.\n",
    "init_op = tf.global_variables_initializer()\n",
    "\n",
    "# Add ops to save and restore all the variables.\n",
    "saver = tf.train.Saver()\n",
    "\n",
    "# Later, launch the model, initialize the variables, do some work, and save the\n",
    "# variables to disk.\n",
    "with tf.Session() as sess:\n",
    "  sess.run(init_op)\n",
    "  # Do some work with the model.\n",
    "  inc_v1.op.run()\n",
    "  dec_v2.op.run()\n",
    "  # Save the variables to disk.\n",
    "  save_path = saver.save(sess, \"./model/model.ckpt\")\n",
    "  print(\"Model saved in path: %s\" % save_path)"
   ]
  },
  {
   "cell_type": "code",
   "execution_count": 2,
   "metadata": {},
   "outputs": [
    {
     "name": "stdout",
     "output_type": "stream",
     "text": [
      "INFO:tensorflow:Restoring parameters from ./model/model.ckpt\n",
      "Model restored.\n",
      "[<tf.Operation 'v3/Initializer/zeros' type=Const>, <tf.Operation 'v3' type=VariableV2>, <tf.Operation 'v3/Assign' type=Assign>, <tf.Operation 'v3/read' type=Identity>, <tf.Operation 'init' type=NoOp>, <tf.Operation 'v1/Initializer/zeros' type=Const>, <tf.Operation 'v1' type=VariableV2>, <tf.Operation 'v1/Assign' type=Assign>, <tf.Operation 'v1/read' type=Identity>, <tf.Operation 'v2/Initializer/zeros' type=Const>, <tf.Operation 'v2' type=VariableV2>, <tf.Operation 'v2/Assign' type=Assign>, <tf.Operation 'v2/read' type=Identity>, <tf.Operation 'add/y' type=Const>, <tf.Operation 'add' type=Add>, <tf.Operation 'Assign' type=Assign>, <tf.Operation 'sub/y' type=Const>, <tf.Operation 'sub' type=Sub>, <tf.Operation 'Assign_1' type=Assign>, <tf.Operation 'init_1' type=NoOp>, <tf.Operation 'save/filename/input' type=Const>, <tf.Operation 'save/filename' type=PlaceholderWithDefault>, <tf.Operation 'save/Const' type=PlaceholderWithDefault>, <tf.Operation 'save/SaveV2/tensor_names' type=Const>, <tf.Operation 'save/SaveV2/shape_and_slices' type=Const>, <tf.Operation 'save/SaveV2' type=SaveV2>, <tf.Operation 'save/control_dependency' type=Identity>, <tf.Operation 'save/RestoreV2/tensor_names' type=Const>, <tf.Operation 'save/RestoreV2/shape_and_slices' type=Const>, <tf.Operation 'save/RestoreV2' type=RestoreV2>, <tf.Operation 'save/Assign' type=Assign>, <tf.Operation 'save/Assign_1' type=Assign>, <tf.Operation 'save/restore_all' type=NoOp>]\n"
     ]
    }
   ],
   "source": [
    "import tensorflow as tf\n",
    "# saver = tf.train.Saver()\n",
    "# tf.reset_default_graph()\n",
    "# Later, launch the model, use the saver to restore variables from disk, and\n",
    "# do some work with the model.\n",
    "g_1 = tf.Graph()\n",
    "with g_1.as_default():    \n",
    "  v3 = tf.get_variable(\"v3\", shape=[5], initializer = tf.zeros_initializer)\n",
    "  # Add an op to initialize the variables.\n",
    "  init_op = tf.global_variables_initializer()\n",
    "  # Restore variables from disk.\n",
    "  with tf.Session() as sess:\n",
    "    sess.run(init_op)\n",
    "    saver = tf.train.import_meta_graph('./model/model.ckpt.meta')\n",
    "    saver.restore(sess, \"./model/model.ckpt\")\n",
    "    print(\"Model restored.\")\n",
    "    print(g_1.get_operations())"
   ]
  },
  {
   "cell_type": "code",
   "execution_count": null,
   "metadata": {},
   "outputs": [],
   "source": []
  }
 ],
 "metadata": {
  "kernelspec": {
   "display_name": "Python 3",
   "language": "python",
   "name": "python3"
  },
  "language_info": {
   "codemirror_mode": {
    "name": "ipython",
    "version": 3
   },
   "file_extension": ".py",
   "mimetype": "text/x-python",
   "name": "python",
   "nbconvert_exporter": "python",
   "pygments_lexer": "ipython3",
   "version": "3.6.8"
  }
 },
 "nbformat": 4,
 "nbformat_minor": 2
}

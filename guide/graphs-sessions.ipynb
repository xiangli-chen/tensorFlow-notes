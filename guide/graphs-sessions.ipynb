{
 "cells": [
  {
   "cell_type": "markdown",
   "metadata": {},
   "source": [
    "# [Graphs and Sessions](https://www.tensorflow.org/programmers_guide/graphs)"
   ]
  },
  {
   "cell_type": "markdown",
   "metadata": {},
   "source": [
    "TensorFlow uses a **dataflow graph** to represent your computation in terms of the dependencies between individual operations."
   ]
  },
  {
   "cell_type": "markdown",
   "metadata": {},
   "source": [
    "Dataflow has several advantages that TensorFlow leverages when executing your programs:\n",
    "- **Parallelism.** easy for the system to identify operations that can execute in parallel.\n",
    "- **Distributed execution.** possible for TensorFlow to partition your program across multiple devices (CPUs, GPUs and TPUs) attached to different machines.\n",
    "- **Compilation.** TensorFlow's XLA compiler can use the information in your dataflow graph to generate faster code.\n",
    "- **Portability.** The dataflow graph is a language-independent representation of the code in your model."
   ]
  },
  {
   "cell_type": "markdown",
   "metadata": {},
   "source": [
    "## tf.Graph\n",
    "A ```tf.Graph``` contains two relevent kinds of information:\n",
    "- Graph structure. Nodes and edges indicate how individual operations are composed together.\n",
    "- Graph collections. A general mechanism for storing collections of metadata in a ```tf.Graph```.\n",
    "  - ```tf.add_to_collection``` enables you to associate a list of objects with a key.\n",
    "  - ```tf.GraphKeys``` defines some of the standard keys.\n",
    "  - ```tf.get_collection``` enables you to look up all objects associated with a key."
   ]
  },
  {
   "cell_type": "markdown",
   "metadata": {},
   "source": [
    "### Building a ```tf.Graph```\n",
    "Most TensorFlow programs start with a dataflow graph construction phase constructing new ```tf.Operation``` (node) and ```tf.Tensor``` (edge) objects and adding them to a ```tf.Graph```. For example:\n",
    "- Calling ```tf.train.Optimizer.minimize``` will add operations and tensors to the default graph that calculate gradients, and return a ```tf.Operation``` that, when run, will apply those gradients to a set of variables.\n",
    "\n",
    "TensorFlow provides a default graph that is an implicit argument to all API functions in the same context. Tensorflow also allows multiple graphs for more advanced use cases."
   ]
  },
  {
   "cell_type": "markdown",
   "metadata": {},
   "source": [
    "### Naming operations\n",
    "A ```tf.Graph``` object defines a namespace for the ```tf.Operation``` objects it contains. TensorFlow automatically chooses a unique name for each operation in graph if name is not given explicitly. The TensorFlow API provides two ways to override the name of an operation:\n",
    "- Each API function that creates a new ```tf.Operation``` or returns a new ```tf.Tensor``` accepts an optional name argument. \n",
    "  - For example, ```tf.constant(42.0, name=\"answer\")``` creates a new ```tf.Operation``` named \"answer\" and returns a ```tf.Tensor``` named \"answer:0\". If the graph already uses \"answer:0\", \n",
    "- The ```tf.name_scope``` function makes it possible to add a name scope prefix to all operations created in a particular context. For example:\n",
    "  ```python\n",
    "  c_0 = tf.constant(0, name=\"c\")  # => operation named \"c\"\n",
    "  # Already-used names will be \"uniquified\".\n",
    "  c_1 = tf.constant(2, name=\"c\")  # => operation named \"c_1\"\n",
    "  # Name scopes add a prefix to all operations created in the same context.\n",
    "  with tf.name_scope(\"outer\"):\n",
    "    c_2 = tf.constant(2, name=\"c\")  # => operation named \"outer/c\"\n",
    "    # Name scopes nest like paths in a hierarchical file system.\n",
    "    with tf.name_scope(\"inner\"):\n",
    "      c_3 = tf.constant(3, name=\"c\")  # => operation named \"outer/inner/c\"\n",
    "    # Exiting a name scope context will return to the previous prefix.\n",
    "    c_4 = tf.constant(4, name=\"c\")  # => operation named \"outer/c_1\"\n",
    "    # Already-used name scopes will be \"uniquified\".\n",
    "    with tf.name_scope(\"inner\"):\n",
    "      c_5 = tf.constant(5, name=\"c\")  # => operation named \"outer/inner_1/c\"\n",
    "  ```\n",
    "Note that ```tf.Tensor``` objects are implicitly named after the ```tf.Operation``` that produces the tensor as output. A tensor name has the form ```\"<OP_NAME>:<i>\"``` where:\n",
    "- ```\"<OP_NAME>\"``` is the name of the operation that produces it.\n",
    "- ```\"<i>\"``` is an integer representing the index of that tensor among the operation's outputs.\n"
   ]
  },
  {
   "cell_type": "markdown",
   "metadata": {},
   "source": [
    "### Placing operations on different devices\n",
    "[to do]"
   ]
  },
  {
   "cell_type": "markdown",
   "metadata": {},
   "source": [
    "### Tensor-like objects\n",
    "Many TensorFlow operations will accept a tensor-like object in place of a ```tf.Tensor```, and implicitly convert it to a ```tf.Tensor``` using the ```tf.convert_to_tensor``` method. Tensor-like objects include elements of the following types:\n",
    "- tf.Tensor\n",
    "- tf.Variable\n",
    "- numpy.ndarray\n",
    "- list\n",
    "- Sclar python types: bool, float, int, str\n",
    "\n",
    "You can register additional tensor-like types using **tf.register_tensor_conversion_function**."
   ]
  },
  {
   "cell_type": "markdown",
   "metadata": {},
   "source": [
    "## tf.Session\n",
    "TensorFlow uses the **tf.Session** class to represent a connection between the client program---typically a Python program, although a similar interface is available in other languages---and the C++ runtime."
   ]
  },
  {
   "cell_type": "markdown",
   "metadata": {},
   "source": [
    "### Creating a ```tf.session```\n",
    "```python\n",
    "with tf.Session() as sess:\n",
    "    # ...\n",
    "```\n",
    "Use context manager (with block) that can automatically close the session.  \n",
    "**tf.Session.init** accepts three optional arguments:\n",
    "- target. You may specify a ```grpc://``` URL to specify the address of a TensorFlow server\n",
    "- graph. You can specify an explicit ```tf.Graph``` when you construct the session.\n",
    "- config. You can specify a ```tf.ConfigProto``` that controls the behavior of the session."
   ]
  },
  {
   "cell_type": "markdown",
   "metadata": {},
   "source": [
    "### Using ```tf.Session.run``` to execute operations\n",
    "The ```tf.Session.run``` method is the main mechanism for running a ```tf.Operation``` or evaluating a ```tf.Tensor```.\n",
    "- ```tf.Session.run``` requires specifying a list of fetches, which determine the return values.\n",
    "- ```tf.Session.run``` also optionally takes a dictionary of feeds, a mapping from ```tf.Tensor``` objects to values.\n",
    "- ```tf.Session.run``` also accepts an optional options argument that enables you to specify options about the call, and an optional ```run_metadata``` argument that enables you to collect metadata about the execution. "
   ]
  },
  {
   "cell_type": "markdown",
   "metadata": {},
   "source": [
    "### Visualizing graph\n",
    "The graph visualizer is a component of TensorBoard that renders the structure of your graph visually in a browser."
   ]
  },
  {
   "cell_type": "markdown",
   "metadata": {},
   "source": [
    "### Programming with multiple graphs\n",
    "For many applications, a single graph is sufficient, TensorFlow also provides methods for manipulating the default graph. For example:\n",
    "- A **tf.Graph** defines the namespace for **tf.Operation** objects: each operation in a single graph must have a unique name.\n",
    "- The default graph stores information about every **tf.Operation** and **tf.Tensor** that was ever added to it.\n",
    "\n",
    "You can install a different **tf.Graph** as the default graph, using the **tf.Graph.as_default** context manager:\n",
    "```python\n",
    "g_1 = tf.Graph()\n",
    "with g_1.as_default():\n",
    "  # Operations created in this scope will be added to `g_1`.\n",
    "  c = tf.constant(\"Node in g_1\")\n",
    "  # Sessions created in this scope will run operations from `g_1`.\n",
    "  sess_1 = tf.Session()\n",
    "\n",
    "g_2 = tf.Graph()\n",
    "with g_2.as_default():\n",
    "  # Operations created in this scope will be added to `g_2`.\n",
    "  d = tf.constant(\"Node in g_2\")\n",
    "\n",
    "# Alternatively, you can pass a graph when constructing a session:\n",
    "# `sess_2` will run operations from `g_2`.\n",
    "sess_2 = tf.Session(graph=g_2)\n",
    "```\n",
    "\n",
    "To inspect the current default graph, call **tf_get_default_graph**, which returns a **tf.Graph** object:\n",
    "```python\n",
    "# Print all of the operations in the default graph.\n",
    "g = tf.get_default_graph()\n",
    "print(g.get_operations())\n",
    "```"
   ]
  },
  {
   "cell_type": "code",
   "execution_count": null,
   "metadata": {},
   "outputs": [],
   "source": []
  }
 ],
 "metadata": {
  "kernelspec": {
   "display_name": "Python 3",
   "language": "python",
   "name": "python3"
  },
  "language_info": {
   "codemirror_mode": {
    "name": "ipython",
    "version": 3
   },
   "file_extension": ".py",
   "mimetype": "text/x-python",
   "name": "python",
   "nbconvert_exporter": "python",
   "pygments_lexer": "ipython3",
   "version": "3.7.1"
  }
 },
 "nbformat": 4,
 "nbformat_minor": 2
}

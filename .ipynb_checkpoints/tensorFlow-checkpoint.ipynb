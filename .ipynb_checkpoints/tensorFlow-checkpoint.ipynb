{
 "cells": [
  {
   "cell_type": "markdown",
   "metadata": {},
   "source": [
    "# Tensor Flow\n",
    "\n",
    "## Get started\n",
    "- [Getting started](./getting-started.ipynb)\n",
    "- [Softmax regression](./softmax-regression.ipynb)\n",
    "- [Convolutional neural network](./cnn.ipynb)\n",
    "---\n",
    "\n",
    "## Programmer's guild\n",
    "- Low level APIs\n",
    "  - introduction\n",
    "  - [tensors](./tensors.ipynb)\n",
    "  - [variables](./variables.ipynb)\n",
    "---\n",
    "\n",
    "## API r1.6\n",
    "- [tensor](./tensor.ipynb)\n",
    "  - indexing\n",
    "  - sampling\n",
    "\n",
    "## Practical notes\n",
    "- [build model](./build-model.ipynb)\n",
    "\n",
    "## Tutorials\n",
    "- [Vector representation of words](./word2vec.ipynb)\n",
    "- [Recurrent neural network](./rnn.ipynb)"
   ]
  },
  {
   "cell_type": "code",
   "execution_count": null,
   "metadata": {
    "collapsed": true
   },
   "outputs": [],
   "source": []
  }
 ],
 "metadata": {
  "kernelspec": {
   "display_name": "Python 3",
   "language": "python",
   "name": "python3"
  },
  "language_info": {
   "codemirror_mode": {
    "name": "ipython",
    "version": 3
   },
   "file_extension": ".py",
   "mimetype": "text/x-python",
   "name": "python",
   "nbconvert_exporter": "python",
   "pygments_lexer": "ipython3",
   "version": "3.6.4"
  }
 },
 "nbformat": 4,
 "nbformat_minor": 2
}

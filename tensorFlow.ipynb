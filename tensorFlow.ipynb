{
 "cells": [
  {
   "cell_type": "markdown",
   "metadata": {},
   "source": [
    "# [TensorFlow](https://www.tensorflow.org/)\n",
    "\n",
    "## Get started\n",
    "- [Getting started](./getting-started.ipynb)\n",
    "- [Softmax regression](./softmax-regression.ipynb)\n",
    "- [Convolutional neural network](./cnn.ipynb)\n",
    "---\n",
    "\n",
    "## Programmer's guild\n",
    "- Low level APIs\n",
    "  - introduction\n",
    "  - [tensors](./guide/tensors.ipynb)\n",
    "    - slicing\n",
    "    - joining\n",
    "    - shaping\n",
    "    - sampling\n",
    "    - math\n",
    "  - [variables](./guide/variables.ipynb)\n",
    "  - [graphs and sessions](./guide/graphs-sessions.ipynb)\n",
    "- Debugging\n",
    "  - [debugging](./guide/debugging.ipynb)\n",
    "- TensorBoard\n",
    "  - [visualizing learning](./guide/visualizing.ipynb)\n",
    "  - graphs\n",
    "  - histograms\n",
    "  \n",
    "- Save and Restore\n",
    "  - [save restore](./guide/save-restore.ipynb)\n",
    "---\n",
    "\n",
    "## API r1.6\n",
    "---\n",
    "\n",
    "## Practical notes\n",
    "- [build model](./build-model.ipynb)\n",
    "\n",
    "---\n",
    "\n",
    "## Tutorials\n",
    "- [Vector representation of words](./word2vec.ipynb)\n",
    "- [Recurrent neural network](./rnn.ipynb)\n",
    "\n",
    "## Resources\n",
    "- [TensorFlow dev summit 2019](https://www.tensorflow.org/dev-summit)\n",
    "- [weights initialization tutorial](https://adventuresinmachinelearning.com/weight-initialization-tutorial-tensorflow/)"
   ]
  },
  {
   "cell_type": "code",
   "execution_count": null,
   "metadata": {
    "collapsed": true
   },
   "outputs": [],
   "source": []
  }
 ],
 "metadata": {
  "kernelspec": {
   "display_name": "Python 3",
   "language": "python",
   "name": "python3"
  },
  "language_info": {
   "codemirror_mode": {
    "name": "ipython",
    "version": 3
   },
   "file_extension": ".py",
   "mimetype": "text/x-python",
   "name": "python",
   "nbconvert_exporter": "python",
   "pygments_lexer": "ipython3",
   "version": "3.7.1"
  }
 },
 "nbformat": 4,
 "nbformat_minor": 2
}

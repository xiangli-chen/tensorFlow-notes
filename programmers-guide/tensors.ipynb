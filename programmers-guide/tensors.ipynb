{
 "cells": [
  {
   "cell_type": "markdown",
   "metadata": {},
   "source": [
    "# [Tensors](https://www.tensorflow.org/programmers_guide/tensors)\n",
    "A **tensor** is a **generalization of vectors and matrices** to potentially higher dimensions.\n",
    "In a TensorFlow program, the main object is the ```tf.Tensor```.\n",
    "\n",
    "TensorFlow programs work by\n",
    "- building a graph of ```tf.Tensor``` objects\n",
    "- detailing how each tensor is computed\n",
    "- running parts of this graph to achieve the desired results\n",
    "\n",
    "A ```tf.Tensor``` has the following properties:\n",
    "- a data type (```float32```, ```int32```, or ```string```, for example)\n",
    "- a shape\n",
    "\n",
    "Each element in the Tensor has the same data type which is always known.\n",
    "\n",
    "The main types of tensors:\n",
    "- ```tf.Variable``` (immutable)\n",
    "- ```tf.constant```\n",
    "- ```tf.placeholder```\n",
    "- ```tf.SparseTensor```\n",
    "\n",
    "The **rank** of a ```tf.Tensor``` object is its number of dimension. Getting a ```tf.Tensor``` object's rank.\n",
    "```python\n",
    "r = tf.rank(a_tensor)\n",
    "```"
   ]
  },
  {
   "cell_type": "markdown",
   "metadata": {},
   "source": [
    "## [Transformation](https://www.tensorflow.org/api_guides/python/array_ops)\n",
    "### Slicing\n",
    "A ```tf.Tensor``` is an n-dimensional array of cells, to access a single cell in a ```tf.Tensor``` you need to specify n indices.\n",
    "\n",
    "- For a rank 0 tensor (a scalar), no indices are necessary, since it is already a single number.\n",
    "\n",
    "- For a rank 1 tensor (a vector), passing a single index allows you to access a number:\n",
    "```python\n",
    "my_scalar = my_vector[2]\n",
    "```\n",
    "Note that the index passed inside the [] can itself be a scalar ```tf.Tensor```.\n",
    "\n",
    "- For a rank 2 tensor (a matrix) \n",
    "  - passing two numbers returns a scalar, as expected:\n",
    "```python \n",
    "my_scalar = my_matrix[1, 2]\n",
    "```\n",
    "  - passing a single number, returns a subvector of a matrix:\n",
    "```python\n",
    "my_row_vector = my_matrix[2]\n",
    "my_column_vector = my_matrix[:, 3] # : means leaving the dimension alone\n",
    "``` \n",
    "\n",
    "#### Gather slices\n",
    "tf.gather_nd\n",
    "```python\n",
    "tf.gather_nd(params, indices, name=None)\n",
    "```\n",
    "Args:\n",
    "- ```param```: A ```Tensor```\n",
    "- ```indices```: A ```Tensor```\n",
    "- ```name```: A ```string```\n",
    "\n",
    "Returns:  \n",
    "A ```Tensor```. Has the same type as ```params```.\n",
    "\n",
    "Gather slices from ```params``` into a Tensor with shape specified by ```indices```.\n",
    "\n",
    "```indices``` is an K-dimensional integer tensor, best thought of as a (K-1)-dimensional tensor of indices into ```params```, where each element defines a slice of ```params```:\n",
    "```python\n",
    "output[i_0, ..., i_{K-2}] = params[indices[i0, ..., i_{K-2}]]\n",
    "```\n",
    "Examples\n",
    "```python\n",
    "import tensorflow as tf\n",
    "indices = tf.constant([[0, 0], [1, 1]])\n",
    "params = tf.constant([[0, 1], [2, 3]])\n",
    "output = tf.gather_nd(params, indices)\n",
    "with tf.Session() as sess:\n",
    "    print(output.eval()) # [0 3]\n",
    "\n",
    "indices = tf.constant([[[0, 0]], [[1, 1]]])\n",
    "params = tf.constant([[0, 1], [2, 3]])\n",
    "output = tf.gather_nd(params, indices)\n",
    "with tf.Session() as sess:\n",
    "    print(output.eval()) # [[0] [3]]\n",
    "```"
   ]
  },
  {
   "cell_type": "markdown",
   "metadata": {},
   "source": [
    "### Joining\n",
    "tf.stack\n",
    "\n",
    "```python\n",
    "tf.stack(values, axis = 0, name = 'stack')\n",
    "```\n",
    "\n",
    "Args:\n",
    "- ```values```: A list of ```Tensor``` objects with the same shape and type.\n",
    "- ```axis```: An ```int```. The axis to stack along.\n",
    "- ```name```: A ```string```\n",
    "\n",
    "Returns:  \n",
    "A stacked ```Tensor``` with the same type as ```values```.\n",
    "\n",
    "Packs the list of tensors in values into a tensor with rank one higher than each tensor in values, by packing them along the axis dimension.\n",
    "\n",
    "An example\n",
    "```python\n",
    "import tensorflow as tf\n",
    "import numpy as np\n",
    "x = tf.constant(np.arange(4), dtype = tf.int32)\n",
    "y = tf.constant([0,1,2,3], dtype = tf.int32)\n",
    "z = tf.stack([x,y], axis = 1)\n",
    "with tf.Session() as sess:\n",
    "    print(z.eval()) # [[0 0][1 1][2 2][3 3]]\n",
    "```"
   ]
  },
  {
   "cell_type": "markdown",
   "metadata": {},
   "source": [
    "### Shaping\n",
    "tf.shape\n",
    "```python\n",
    "tf.shape(input, name=None, out_type=tf.int32)\n",
    "```\n",
    "\n",
    "Args:\n",
    "- ```input```: A ```Tensor```.\n",
    "- ```name```: A ```string```.\n",
    "- ```out_type```: (Optional) The specified output type of the operation (int32 or int64). Defaults to tf.int32.\n",
    "\n",
    "Returns:\n",
    "A ```Tensor``` of type ```out_type```\n",
    "\n",
    "This operation returns a 1-D integer tensor representing the shape of input.\n",
    "\n",
    "#### static shape and dynamic shape\n",
    "```python\n",
    "import tensorflow as tf\n",
    "x = tf.placeholder(shape = [4], dtype = tf.int32)\n",
    "y,_ = tf.unique(x)\n",
    "print(x.get_shape()) # (4,)\n",
    "print(y.get_shape()) # (?,)\n",
    "\n",
    "z = tf.shape(y)\n",
    "sess = tf.Session()\n",
    "print(sess.run(z, feed_dict={x: [0, 1, 2, 3]})) # [4]\n",
    "print(sess.run(z, feed_dict={x: [0, 0, 0, 0]})) # [1]\n",
    "```\n",
    "\n",
    "```x.get_shape()``` returns an object of class ```TensorShape```.\n",
    "The value of ```x.get_shape()``` is the static shape of ```x```.\n",
    "The ```(?,)``` means that ```y``` is a vector of unknown length.\n",
    "Since ```x``` is a ```placeholder```, it doesn't have a value until we feed it.\n",
    "\n",
    "```tf.shape()``` can be used to get the dynamic shape of a tensor and be used in a TensorFlow computation."
   ]
  },
  {
   "cell_type": "markdown",
   "metadata": {},
   "source": [
    "### Casting"
   ]
  },
  {
   "cell_type": "code",
   "execution_count": null,
   "metadata": {},
   "outputs": [],
   "source": []
  },
  {
   "cell_type": "markdown",
   "metadata": {},
   "source": [
    "## Sampling\n",
    "- [multinomial](https://www.tensorflow.org/api_docs/python/tf/multinomial)\n",
    "```python\n",
    "import tensorflow as tf\n",
    "samples = tf.multinomial(tf.log([[10., 5.]]), 1)[0][0]\n",
    "with tf.Session() as sess:\n",
    "    print(samples.eval()) # 0 or 1\n",
    "```"
   ]
  },
  {
   "cell_type": "code",
   "execution_count": 21,
   "metadata": {},
   "outputs": [
    {
     "name": "stdout",
     "output_type": "stream",
     "text": [
      "[1]\n",
      "(1,)\n"
     ]
    }
   ],
   "source": [
    "import tensorflow as tf\n",
    "samples = tf.multinomial(tf.log([[10., 5.]]), 1)[0]\n",
    "with tf.Session() as sess:\n",
    "    print(samples.eval())\n",
    "    print(samples.shape)"
   ]
  },
  {
   "cell_type": "markdown",
   "metadata": {},
   "source": [
    "## [Math](https://www.tensorflow.org/api_guides/python/math_ops)"
   ]
  },
  {
   "cell_type": "markdown",
   "metadata": {},
   "source": [
    "**Element-wise multiplication**  \n",
    "tf.multiply\n",
    "```python\n",
    "tf.multiply(\n",
    "    x,\n",
    "    y,\n",
    "    name=None\n",
    ")\n",
    "```\n",
    "supports broadcasting\n",
    "\n"
   ]
  },
  {
   "cell_type": "code",
   "execution_count": 5,
   "metadata": {},
   "outputs": [
    {
     "name": "stdout",
     "output_type": "stream",
     "text": [
      "2\n"
     ]
    }
   ],
   "source": [
    "import tensorflow as tf\n",
    "x = tf.constant([3,2])\n",
    "with tf.Session() as sess:\n",
    "  print(x.shape[0])"
   ]
  },
  {
   "cell_type": "code",
   "execution_count": 21,
   "metadata": {},
   "outputs": [
    {
     "name": "stdout",
     "output_type": "stream",
     "text": [
      "(2, 2)\n",
      "()\n",
      "(?,)\n"
     ]
    }
   ],
   "source": [
    "import tensorflow as tf\n",
    "x = tf.placeholder(shape = [2,2], dtype = tf.float32)\n",
    "y = tf.shape(x)[0]\n",
    "z = tf.range(y)\n",
    "\n",
    "with tf.Session() as sess:\n",
    "  print(x.shape)\n",
    "  print(y.shape)\n",
    "  print(z.shape)"
   ]
  },
  {
   "cell_type": "code",
   "execution_count": 24,
   "metadata": {},
   "outputs": [
    {
     "name": "stdout",
     "output_type": "stream",
     "text": [
      "(4,)\n",
      "(?,)\n",
      "[4]\n",
      "[1]\n"
     ]
    }
   ],
   "source": [
    "import tensorflow as tf\n",
    "x = tf.placeholder(shape = [4], dtype = tf.int32)\n",
    "y,_ = tf.unique(x)\n",
    "print(x.get_shape())\n",
    "print(y.get_shape())\n",
    "\n",
    "z = tf.shape(y)\n",
    "sess = tf.Session()\n",
    "print(sess.run(z, feed_dict={x: [0, 1, 2, 3]})) # [4]\n",
    "print(sess.run(z, feed_dict={x: [0, 0, 0, 0]})) # [1]"
   ]
  },
  {
   "cell_type": "code",
   "execution_count": null,
   "metadata": {},
   "outputs": [],
   "source": []
  }
 ],
 "metadata": {
  "kernelspec": {
   "display_name": "Python 3",
   "language": "python",
   "name": "python3"
  },
  "language_info": {
   "codemirror_mode": {
    "name": "ipython",
    "version": 3
   },
   "file_extension": ".py",
   "mimetype": "text/x-python",
   "name": "python",
   "nbconvert_exporter": "python",
   "pygments_lexer": "ipython3",
   "version": "3.6.4"
  }
 },
 "nbformat": 4,
 "nbformat_minor": 2
}
